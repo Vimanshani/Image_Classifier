{
 "cells": [
  {
   "cell_type": "code",
   "execution_count": 6,
   "id": "ea3fc9ef-8831-4810-bb02-6fe8f59ed619",
   "metadata": {},
   "outputs": [
    {
     "name": "stdout",
     "output_type": "stream",
     "text": [
      "Requirement already satisfied: tensorflow in c:\\users\\dell\\appdata\\local\\packages\\pythonsoftwarefoundation.python.3.11_qbz5n2kfra8p0\\localcache\\local-packages\\python311\\site-packages (2.19.0)\n",
      "Requirement already satisfied: opencv-python in c:\\users\\dell\\appdata\\local\\packages\\pythonsoftwarefoundation.python.3.11_qbz5n2kfra8p0\\localcache\\local-packages\\python311\\site-packages (4.11.0.86)\n",
      "Requirement already satisfied: matplotlib in c:\\users\\dell\\appdata\\local\\packages\\pythonsoftwarefoundation.python.3.11_qbz5n2kfra8p0\\localcache\\local-packages\\python311\\site-packages (3.10.1)\n",
      "Requirement already satisfied: absl-py>=1.0.0 in c:\\users\\dell\\appdata\\local\\packages\\pythonsoftwarefoundation.python.3.11_qbz5n2kfra8p0\\localcache\\local-packages\\python311\\site-packages (from tensorflow) (2.1.0)\n",
      "Requirement already satisfied: astunparse>=1.6.0 in c:\\users\\dell\\appdata\\local\\packages\\pythonsoftwarefoundation.python.3.11_qbz5n2kfra8p0\\localcache\\local-packages\\python311\\site-packages (from tensorflow) (1.6.3)\n",
      "Requirement already satisfied: flatbuffers>=24.3.25 in c:\\users\\dell\\appdata\\local\\packages\\pythonsoftwarefoundation.python.3.11_qbz5n2kfra8p0\\localcache\\local-packages\\python311\\site-packages (from tensorflow) (25.2.10)\n",
      "Requirement already satisfied: gast!=0.5.0,!=0.5.1,!=0.5.2,>=0.2.1 in c:\\users\\dell\\appdata\\local\\packages\\pythonsoftwarefoundation.python.3.11_qbz5n2kfra8p0\\localcache\\local-packages\\python311\\site-packages (from tensorflow) (0.4.0)\n",
      "Requirement already satisfied: google-pasta>=0.1.1 in c:\\users\\dell\\appdata\\local\\packages\\pythonsoftwarefoundation.python.3.11_qbz5n2kfra8p0\\localcache\\local-packages\\python311\\site-packages (from tensorflow) (0.2.0)\n",
      "Requirement already satisfied: libclang>=13.0.0 in c:\\users\\dell\\appdata\\local\\packages\\pythonsoftwarefoundation.python.3.11_qbz5n2kfra8p0\\localcache\\local-packages\\python311\\site-packages (from tensorflow) (18.1.1)\n",
      "Requirement already satisfied: opt-einsum>=2.3.2 in c:\\users\\dell\\appdata\\local\\packages\\pythonsoftwarefoundation.python.3.11_qbz5n2kfra8p0\\localcache\\local-packages\\python311\\site-packages (from tensorflow) (3.4.0)\n",
      "Requirement already satisfied: packaging in c:\\users\\dell\\appdata\\local\\packages\\pythonsoftwarefoundation.python.3.11_qbz5n2kfra8p0\\localcache\\local-packages\\python311\\site-packages (from tensorflow) (24.1)\n",
      "Requirement already satisfied: protobuf!=4.21.0,!=4.21.1,!=4.21.2,!=4.21.3,!=4.21.4,!=4.21.5,<6.0.0dev,>=3.20.3 in c:\\users\\dell\\appdata\\local\\packages\\pythonsoftwarefoundation.python.3.11_qbz5n2kfra8p0\\localcache\\local-packages\\python311\\site-packages (from tensorflow) (4.25.6)\n",
      "Requirement already satisfied: requests<3,>=2.21.0 in c:\\users\\dell\\appdata\\local\\packages\\pythonsoftwarefoundation.python.3.11_qbz5n2kfra8p0\\localcache\\local-packages\\python311\\site-packages (from tensorflow) (2.32.3)\n",
      "Requirement already satisfied: setuptools in c:\\users\\dell\\appdata\\local\\packages\\pythonsoftwarefoundation.python.3.11_qbz5n2kfra8p0\\localcache\\local-packages\\python311\\site-packages (from tensorflow) (77.0.3)\n",
      "Requirement already satisfied: six>=1.12.0 in c:\\users\\dell\\appdata\\local\\packages\\pythonsoftwarefoundation.python.3.11_qbz5n2kfra8p0\\localcache\\local-packages\\python311\\site-packages (from tensorflow) (1.16.0)\n",
      "Requirement already satisfied: termcolor>=1.1.0 in c:\\users\\dell\\appdata\\local\\packages\\pythonsoftwarefoundation.python.3.11_qbz5n2kfra8p0\\localcache\\local-packages\\python311\\site-packages (from tensorflow) (2.5.0)\n",
      "Requirement already satisfied: typing-extensions>=3.6.6 in c:\\users\\dell\\appdata\\local\\packages\\pythonsoftwarefoundation.python.3.11_qbz5n2kfra8p0\\localcache\\local-packages\\python311\\site-packages (from tensorflow) (4.13.0)\n",
      "Requirement already satisfied: wrapt>=1.11.0 in c:\\users\\dell\\appdata\\local\\packages\\pythonsoftwarefoundation.python.3.11_qbz5n2kfra8p0\\localcache\\local-packages\\python311\\site-packages (from tensorflow) (1.17.2)\n",
      "Requirement already satisfied: grpcio<2.0,>=1.24.3 in c:\\users\\dell\\appdata\\local\\packages\\pythonsoftwarefoundation.python.3.11_qbz5n2kfra8p0\\localcache\\local-packages\\python311\\site-packages (from tensorflow) (1.70.0)\n",
      "Requirement already satisfied: tensorboard~=2.19.0 in c:\\users\\dell\\appdata\\local\\packages\\pythonsoftwarefoundation.python.3.11_qbz5n2kfra8p0\\localcache\\local-packages\\python311\\site-packages (from tensorflow) (2.19.0)\n",
      "Requirement already satisfied: keras>=3.5.0 in c:\\users\\dell\\appdata\\local\\packages\\pythonsoftwarefoundation.python.3.11_qbz5n2kfra8p0\\localcache\\local-packages\\python311\\site-packages (from tensorflow) (3.9.1)\n",
      "Requirement already satisfied: numpy<2.2.0,>=1.26.0 in c:\\users\\dell\\appdata\\local\\packages\\pythonsoftwarefoundation.python.3.11_qbz5n2kfra8p0\\localcache\\local-packages\\python311\\site-packages (from tensorflow) (2.1.3)\n",
      "Requirement already satisfied: h5py>=3.11.0 in c:\\users\\dell\\appdata\\local\\packages\\pythonsoftwarefoundation.python.3.11_qbz5n2kfra8p0\\localcache\\local-packages\\python311\\site-packages (from tensorflow) (3.13.0)\n",
      "Requirement already satisfied: ml-dtypes<1.0.0,>=0.5.1 in c:\\users\\dell\\appdata\\local\\packages\\pythonsoftwarefoundation.python.3.11_qbz5n2kfra8p0\\localcache\\local-packages\\python311\\site-packages (from tensorflow) (0.5.1)\n",
      "Requirement already satisfied: tensorflow-io-gcs-filesystem>=0.23.1 in c:\\users\\dell\\appdata\\local\\packages\\pythonsoftwarefoundation.python.3.11_qbz5n2kfra8p0\\localcache\\local-packages\\python311\\site-packages (from tensorflow) (0.31.0)\n",
      "Requirement already satisfied: contourpy>=1.0.1 in c:\\users\\dell\\appdata\\local\\packages\\pythonsoftwarefoundation.python.3.11_qbz5n2kfra8p0\\localcache\\local-packages\\python311\\site-packages (from matplotlib) (1.3.0)\n",
      "Requirement already satisfied: cycler>=0.10 in c:\\users\\dell\\appdata\\local\\packages\\pythonsoftwarefoundation.python.3.11_qbz5n2kfra8p0\\localcache\\local-packages\\python311\\site-packages (from matplotlib) (0.12.1)\n",
      "Requirement already satisfied: fonttools>=4.22.0 in c:\\users\\dell\\appdata\\local\\packages\\pythonsoftwarefoundation.python.3.11_qbz5n2kfra8p0\\localcache\\local-packages\\python311\\site-packages (from matplotlib) (4.53.1)\n",
      "Requirement already satisfied: kiwisolver>=1.3.1 in c:\\users\\dell\\appdata\\local\\packages\\pythonsoftwarefoundation.python.3.11_qbz5n2kfra8p0\\localcache\\local-packages\\python311\\site-packages (from matplotlib) (1.4.7)\n",
      "Requirement already satisfied: pillow>=8 in c:\\users\\dell\\appdata\\local\\packages\\pythonsoftwarefoundation.python.3.11_qbz5n2kfra8p0\\localcache\\local-packages\\python311\\site-packages (from matplotlib) (10.4.0)\n",
      "Requirement already satisfied: pyparsing>=2.3.1 in c:\\users\\dell\\appdata\\local\\packages\\pythonsoftwarefoundation.python.3.11_qbz5n2kfra8p0\\localcache\\local-packages\\python311\\site-packages (from matplotlib) (3.1.4)\n",
      "Requirement already satisfied: python-dateutil>=2.7 in c:\\users\\dell\\appdata\\local\\packages\\pythonsoftwarefoundation.python.3.11_qbz5n2kfra8p0\\localcache\\local-packages\\python311\\site-packages (from matplotlib) (2.9.0.post0)\n",
      "Requirement already satisfied: wheel<1.0,>=0.23.0 in c:\\users\\dell\\appdata\\local\\packages\\pythonsoftwarefoundation.python.3.11_qbz5n2kfra8p0\\localcache\\local-packages\\python311\\site-packages (from astunparse>=1.6.0->tensorflow) (0.45.1)\n",
      "Requirement already satisfied: rich in c:\\users\\dell\\appdata\\local\\packages\\pythonsoftwarefoundation.python.3.11_qbz5n2kfra8p0\\localcache\\local-packages\\python311\\site-packages (from keras>=3.5.0->tensorflow) (13.9.4)\n",
      "Requirement already satisfied: namex in c:\\users\\dell\\appdata\\local\\packages\\pythonsoftwarefoundation.python.3.11_qbz5n2kfra8p0\\localcache\\local-packages\\python311\\site-packages (from keras>=3.5.0->tensorflow) (0.0.8)\n",
      "Requirement already satisfied: optree in c:\\users\\dell\\appdata\\local\\packages\\pythonsoftwarefoundation.python.3.11_qbz5n2kfra8p0\\localcache\\local-packages\\python311\\site-packages (from keras>=3.5.0->tensorflow) (0.14.1)\n",
      "Requirement already satisfied: charset-normalizer<4,>=2 in c:\\users\\dell\\appdata\\local\\packages\\pythonsoftwarefoundation.python.3.11_qbz5n2kfra8p0\\localcache\\local-packages\\python311\\site-packages (from requests<3,>=2.21.0->tensorflow) (3.3.2)\n",
      "Requirement already satisfied: idna<4,>=2.5 in c:\\users\\dell\\appdata\\local\\packages\\pythonsoftwarefoundation.python.3.11_qbz5n2kfra8p0\\localcache\\local-packages\\python311\\site-packages (from requests<3,>=2.21.0->tensorflow) (3.10)\n",
      "Requirement already satisfied: urllib3<3,>=1.21.1 in c:\\users\\dell\\appdata\\local\\packages\\pythonsoftwarefoundation.python.3.11_qbz5n2kfra8p0\\localcache\\local-packages\\python311\\site-packages (from requests<3,>=2.21.0->tensorflow) (2.2.3)\n",
      "Requirement already satisfied: certifi>=2017.4.17 in c:\\users\\dell\\appdata\\local\\packages\\pythonsoftwarefoundation.python.3.11_qbz5n2kfra8p0\\localcache\\local-packages\\python311\\site-packages (from requests<3,>=2.21.0->tensorflow) (2024.8.30)\n",
      "Requirement already satisfied: markdown>=2.6.8 in c:\\users\\dell\\appdata\\local\\packages\\pythonsoftwarefoundation.python.3.11_qbz5n2kfra8p0\\localcache\\local-packages\\python311\\site-packages (from tensorboard~=2.19.0->tensorflow) (3.7)\n",
      "Requirement already satisfied: tensorboard-data-server<0.8.0,>=0.7.0 in c:\\users\\dell\\appdata\\local\\packages\\pythonsoftwarefoundation.python.3.11_qbz5n2kfra8p0\\localcache\\local-packages\\python311\\site-packages (from tensorboard~=2.19.0->tensorflow) (0.7.2)\n",
      "Requirement already satisfied: werkzeug>=1.0.1 in c:\\users\\dell\\appdata\\local\\packages\\pythonsoftwarefoundation.python.3.11_qbz5n2kfra8p0\\localcache\\local-packages\\python311\\site-packages (from tensorboard~=2.19.0->tensorflow) (3.0.4)\n",
      "Requirement already satisfied: MarkupSafe>=2.1.1 in c:\\users\\dell\\appdata\\local\\packages\\pythonsoftwarefoundation.python.3.11_qbz5n2kfra8p0\\localcache\\local-packages\\python311\\site-packages (from werkzeug>=1.0.1->tensorboard~=2.19.0->tensorflow) (2.1.5)\n",
      "Requirement already satisfied: markdown-it-py>=2.2.0 in c:\\users\\dell\\appdata\\local\\packages\\pythonsoftwarefoundation.python.3.11_qbz5n2kfra8p0\\localcache\\local-packages\\python311\\site-packages (from rich->keras>=3.5.0->tensorflow) (3.0.0)\n",
      "Requirement already satisfied: pygments<3.0.0,>=2.13.0 in c:\\users\\dell\\appdata\\local\\packages\\pythonsoftwarefoundation.python.3.11_qbz5n2kfra8p0\\localcache\\local-packages\\python311\\site-packages (from rich->keras>=3.5.0->tensorflow) (2.18.0)\n",
      "Requirement already satisfied: mdurl~=0.1 in c:\\users\\dell\\appdata\\local\\packages\\pythonsoftwarefoundation.python.3.11_qbz5n2kfra8p0\\localcache\\local-packages\\python311\\site-packages (from markdown-it-py>=2.2.0->rich->keras>=3.5.0->tensorflow) (0.1.2)\n"
     ]
    },
    {
     "name": "stderr",
     "output_type": "stream",
     "text": [
      "WARNING: Ignoring invalid distribution ~etuptools (C:\\Users\\Dell\\AppData\\Local\\Packages\\PythonSoftwareFoundation.Python.3.11_qbz5n2kfra8p0\\LocalCache\\local-packages\\Python311\\site-packages)\n",
      "WARNING: Ignoring invalid distribution ~etuptools (C:\\Users\\Dell\\AppData\\Local\\Packages\\PythonSoftwareFoundation.Python.3.11_qbz5n2kfra8p0\\LocalCache\\local-packages\\Python311\\site-packages)\n",
      "WARNING: Ignoring invalid distribution ~etuptools (C:\\Users\\Dell\\AppData\\Local\\Packages\\PythonSoftwareFoundation.Python.3.11_qbz5n2kfra8p0\\LocalCache\\local-packages\\Python311\\site-packages)\n"
     ]
    }
   ],
   "source": [
    "!pip install tensorflow opencv-python matplotlib"
   ]
  },
  {
   "cell_type": "code",
   "execution_count": 7,
   "id": "62ac7c83-c17c-4e71-a924-d82df75cb601",
   "metadata": {},
   "outputs": [
    {
     "name": "stdout",
     "output_type": "stream",
     "text": [
      "Package                      Version\n",
      "---------------------------- --------------\n",
      "absl-py                      2.1.0\n",
      "anyio                        4.6.2.post1\n",
      "argon2-cffi                  23.1.0\n",
      "argon2-cffi-bindings         21.2.0\n",
      "arrow                        1.3.0\n",
      "asttokens                    2.4.1\n",
      "astunparse                   1.6.3\n",
      "async-lru                    2.0.4\n",
      "attrs                        24.2.0\n",
      "babel                        2.16.0\n",
      "beautifulsoup4               4.12.3\n",
      "bleach                       6.2.0\n",
      "blinker                      1.8.2\n",
      "cachetools                   5.5.2\n",
      "certifi                      2024.8.30\n",
      "cffi                         1.17.1\n",
      "charset-normalizer           3.3.2\n",
      "click                        8.1.7\n",
      "colorama                     0.4.6\n",
      "comm                         0.2.2\n",
      "comtypes                     1.4.7\n",
      "contourpy                    1.3.0\n",
      "cycler                       0.12.1\n",
      "debugpy                      1.8.8\n",
      "decorator                    5.1.1\n",
      "defusedxml                   0.7.1\n",
      "executing                    2.1.0\n",
      "fastjsonschema               2.20.0\n",
      "Flask                        3.0.3\n",
      "flatbuffers                  25.2.10\n",
      "fonttools                    4.53.1\n",
      "fqdn                         1.5.1\n",
      "gast                         0.4.0\n",
      "google-auth                  2.38.0\n",
      "google-auth-oauthlib         1.0.0\n",
      "google-pasta                 0.2.0\n",
      "grpcio                       1.70.0\n",
      "h11                          0.14.0\n",
      "h5py                         3.13.0\n",
      "httpcore                     1.0.6\n",
      "httpx                        0.27.2\n",
      "idna                         3.10\n",
      "ipykernel                    6.29.5\n",
      "ipython                      8.29.0\n",
      "ipywidgets                   8.1.5\n",
      "isoduration                  20.11.0\n",
      "itsdangerous                 2.2.0\n",
      "jedi                         0.19.1\n",
      "Jinja2                       3.1.4\n",
      "joblib                       1.4.2\n",
      "json5                        0.9.25\n",
      "jsonpointer                  3.0.0\n",
      "jsonschema                   4.23.0\n",
      "jsonschema-specifications    2024.10.1\n",
      "jupyter                      1.1.1\n",
      "jupyter_client               8.6.3\n",
      "jupyter-console              6.6.3\n",
      "jupyter_core                 5.7.2\n",
      "jupyter-events               0.10.0\n",
      "jupyter-lsp                  2.2.5\n",
      "jupyter_server               2.14.2\n",
      "jupyter_server_terminals     0.5.3\n",
      "jupyterlab                   4.2.5\n",
      "jupyterlab_pygments          0.3.0\n",
      "jupyterlab_server            2.27.3\n",
      "jupyterlab_widgets           3.0.13\n",
      "keras                        3.9.1\n",
      "kiwisolver                   1.4.7\n",
      "libclang                     18.1.1\n",
      "Markdown                     3.7\n",
      "markdown-it-py               3.0.0\n",
      "MarkupSafe                   2.1.5\n",
      "matplotlib                   3.10.1\n",
      "matplotlib-inline            0.1.7\n",
      "mdurl                        0.1.2\n",
      "mistune                      3.0.2\n",
      "ml_dtypes                    0.5.1\n",
      "MouseInfo                    0.1.3\n",
      "namex                        0.0.8\n",
      "nbclient                     0.10.0\n",
      "nbconvert                    7.16.4\n",
      "nbformat                     5.10.4\n",
      "nest-asyncio                 1.6.0\n",
      "notebook                     7.2.2\n",
      "notebook_shim                0.2.4\n",
      "numpy                        2.1.3\n",
      "oauthlib                     3.2.2\n",
      "opencv-python                4.11.0.86\n",
      "opt_einsum                   3.4.0\n",
      "optree                       0.14.1\n",
      "overrides                    7.7.0\n",
      "packaging                    24.1\n",
      "pandas                       2.2.3\n",
      "pandocfilters                1.5.1\n",
      "parso                        0.8.4\n",
      "patsy                        0.5.6\n",
      "pillow                       10.4.0\n",
      "pip                          25.0.1\n",
      "platformdirs                 4.3.6\n",
      "prometheus_client            0.21.0\n",
      "prompt_toolkit               3.0.48\n",
      "protobuf                     4.25.6\n",
      "psutil                       6.1.0\n",
      "pure_eval                    0.2.3\n",
      "pyasn1                       0.6.1\n",
      "pyasn1_modules               0.4.1\n",
      "PyAudio                      0.2.14\n",
      "PyAutoGUI                    0.9.54\n",
      "pycparser                    2.22\n",
      "PyGetWindow                  0.0.9\n",
      "Pygments                     2.18.0\n",
      "PyMsgBox                     1.0.9\n",
      "pyparsing                    3.1.4\n",
      "pyperclip                    1.9.0\n",
      "pypiwin32                    223\n",
      "PyRect                       0.2.0\n",
      "PyScreeze                    1.0.1\n",
      "python-dateutil              2.9.0.post0\n",
      "python-json-logger           2.0.7\n",
      "pyttsx3                      2.98\n",
      "pytweening                   1.2.0\n",
      "pytz                         2024.2\n",
      "pywhatkit                    5.4\n",
      "pywin32                      306\n",
      "pywinpty                     2.0.14\n",
      "PyYAML                       6.0.2\n",
      "pyzmq                        26.2.0\n",
      "referencing                  0.35.1\n",
      "requests                     2.32.3\n",
      "requests-oauthlib            2.0.0\n",
      "rfc3339-validator            0.1.4\n",
      "rfc3986-validator            0.1.1\n",
      "rich                         13.9.4\n",
      "rpds-py                      0.21.0\n",
      "rsa                          4.9\n",
      "scikit-learn                 1.5.2\n",
      "scipy                        1.14.1\n",
      "Send2Trash                   1.8.3\n",
      "setuptools                   77.0.3\n",
      "six                          1.16.0\n",
      "sniffio                      1.3.1\n",
      "soupsieve                    2.6\n",
      "SpeechRecognition            3.10.4\n",
      "stack-data                   0.6.3\n",
      "statsmodels                  0.14.3\n",
      "tensorboard                  2.19.0\n",
      "tensorboard-data-server      0.7.2\n",
      "tensorflow                   2.19.0\n",
      "tensorflow-estimator         2.13.0\n",
      "tensorflow-io-gcs-filesystem 0.31.0\n",
      "termcolor                    2.5.0\n",
      "terminado                    0.18.1\n",
      "threadpoolctl                3.5.0\n",
      "tinycss2                     1.4.0\n",
      "tornado                      6.4.1\n",
      "traitlets                    5.14.3\n",
      "types-python-dateutil        2.9.0.20241003\n",
      "typing_extensions            4.13.0\n",
      "tzdata                       2024.1\n",
      "uri-template                 1.3.0\n",
      "urllib3                      2.2.3\n",
      "wcwidth                      0.2.13\n",
      "webcolors                    24.8.0\n",
      "webencodings                 0.5.1\n",
      "websocket-client             1.8.0\n",
      "Werkzeug                     3.0.4\n",
      "wheel                        0.45.1\n",
      "widgetsnbextension           4.0.13\n",
      "wikipedia                    1.4.0\n",
      "wrapt                        1.17.2\n"
     ]
    },
    {
     "name": "stderr",
     "output_type": "stream",
     "text": [
      "WARNING: Ignoring invalid distribution ~etuptools (C:\\Users\\Dell\\AppData\\Local\\Packages\\PythonSoftwareFoundation.Python.3.11_qbz5n2kfra8p0\\LocalCache\\local-packages\\Python311\\site-packages)\n"
     ]
    }
   ],
   "source": [
    "!pip list"
   ]
  },
  {
   "cell_type": "code",
   "execution_count": 16,
   "id": "737250f4-5496-4df9-8ec9-aa41f81c6992",
   "metadata": {},
   "outputs": [
    {
     "name": "stdout",
     "output_type": "stream",
     "text": [
      "Requirement already satisfied: Pillow in c:\\users\\dell\\appdata\\local\\packages\\pythonsoftwarefoundation.python.3.11_qbz5n2kfra8p0\\localcache\\local-packages\\python311\\site-packages (10.4.0)\n"
     ]
    },
    {
     "name": "stderr",
     "output_type": "stream",
     "text": [
      "WARNING: Ignoring invalid distribution ~etuptools (C:\\Users\\Dell\\AppData\\Local\\Packages\\PythonSoftwareFoundation.Python.3.11_qbz5n2kfra8p0\\LocalCache\\local-packages\\Python311\\site-packages)\n",
      "WARNING: Ignoring invalid distribution ~etuptools (C:\\Users\\Dell\\AppData\\Local\\Packages\\PythonSoftwareFoundation.Python.3.11_qbz5n2kfra8p0\\LocalCache\\local-packages\\Python311\\site-packages)\n",
      "WARNING: Ignoring invalid distribution ~etuptools (C:\\Users\\Dell\\AppData\\Local\\Packages\\PythonSoftwareFoundation.Python.3.11_qbz5n2kfra8p0\\LocalCache\\local-packages\\Python311\\site-packages)\n"
     ]
    }
   ],
   "source": [
    "!pip install Pillow"
   ]
  },
  {
   "cell_type": "code",
   "execution_count": 17,
   "id": "7c7cdc94-4d46-4d5c-b992-89d74d4b9b91",
   "metadata": {},
   "outputs": [],
   "source": [
    "import tensorflow as tf\n",
    "import os"
   ]
  },
  {
   "cell_type": "code",
   "execution_count": 28,
   "id": "4782d33a-e3ad-4098-ab2d-21182dbc876b",
   "metadata": {},
   "outputs": [
    {
     "data": {
      "text/plain": [
       "0"
      ]
     },
     "execution_count": 28,
     "metadata": {},
     "output_type": "execute_result"
    }
   ],
   "source": [
    "gpus = tf.config.experimental.list_physical_devices('GPU')\n",
    "len(gpus)"
   ]
  },
  {
   "cell_type": "code",
   "execution_count": 29,
   "id": "5a487f62-0ed3-4a03-8ff6-ae49b05378a5",
   "metadata": {},
   "outputs": [
    {
     "data": {
      "text/plain": [
       "1"
      ]
     },
     "execution_count": 29,
     "metadata": {},
     "output_type": "execute_result"
    }
   ],
   "source": [
    "cpus = tf.config.experimental.list_physical_devices('CPU')\n",
    "len(cpus)"
   ]
  },
  {
   "cell_type": "code",
   "execution_count": 30,
   "id": "682925fc-ec9c-4178-a205-5c7cad461f35",
   "metadata": {},
   "outputs": [],
   "source": [
    "import cv2"
   ]
  },
  {
   "cell_type": "code",
   "execution_count": 31,
   "id": "3e893462-2485-4980-ada8-c9d638908f4f",
   "metadata": {},
   "outputs": [],
   "source": [
    "data_dir = 'data'"
   ]
  },
  {
   "cell_type": "code",
   "execution_count": 32,
   "id": "ee8c6911-a336-4159-ab7e-6e18d4265f4c",
   "metadata": {},
   "outputs": [
    {
     "data": {
      "text/plain": [
       "['.ipynb_checkpoints', 'happy', 'sad']"
      ]
     },
     "execution_count": 32,
     "metadata": {},
     "output_type": "execute_result"
    }
   ],
   "source": [
    "os.listdir(data_dir)"
   ]
  },
  {
   "cell_type": "code",
   "execution_count": 33,
   "id": "07ac41de-b1e2-4913-8f44-911faf48f0d1",
   "metadata": {},
   "outputs": [
    {
     "data": {
      "text/plain": [
       "['.ipynb_checkpoints',\n",
       " '05-12-21-happy-people.jpg',\n",
       " '1000_F_368578981_Re3aWHJGbJUTX8ytC6bswKqedruOVuDn.jpg',\n",
       " '1000_F_618001200_Rs4gohOCHN8obgHmY40SGhEbhJn86o7J.jpg',\n",
       " '1000_F_874149080_IDDdl8SHIfTGp6aqEWZBnCPI1UwLU1vO.jpg',\n",
       " '10563227-happy-person.jpg',\n",
       " '12-Things-a-Happy-Person-Does-Without-Realizing-It.jpg',\n",
       " '1200px-Smiley-svg.png',\n",
       " '160-1600378_transparent-happy-person-png-happy-man-face-png.png',\n",
       " '170404-happy-workers-feature.jpg',\n",
       " '171120-smile-stock-njs-333p.jpg',\n",
       " '29917610-beautiful-and-happy-man-smiling-with-thumbs-up.jpg',\n",
       " '31418025-diverse-happy-people.jpg',\n",
       " '343515-worldhappinessreport1440.jpg',\n",
       " '35438_hd.jpg',\n",
       " '360_F_484873483_hg1ofIdXbMha5lKEDG3hJBrwKh1oikTq.jpg',\n",
       " '360_F_498729118_RiwWjhYDF4LgfnfEL0WCh6Ls4oh0cHPV.jpg',\n",
       " '360_F_553721043_dud5E2xUoiQaOEfJ4fLGgp7ZuQ7lsWKM.jpg',\n",
       " '360_F_569818893_ph01fzGNwgIBf0pzcwyJ3IwsRzQTpmpN.jpg',\n",
       " '383627315.jpg',\n",
       " '4-things-happy-people-dont-do-cover.png',\n",
       " '4239f3d51d092f69d529f372a37b4601-1024x341.jpg',\n",
       " '4239f3d51d092f69d529f372a37b4601.jpg',\n",
       " '427394C200000578-0-image-a-24_1500384481554.jpg',\n",
       " '5fe07bbb5b1cedf547980dcdc0862e79.jpg',\n",
       " '6186015_stock-photo-happy-people-crowd.jpg',\n",
       " '67891c01e6414a49171f7cdd_670dc58a1a956551043bb21f_traitshapp.webp',\n",
       " '7-principles-of-successful-and-happy-people.png',\n",
       " '8e06de1bf2171da2312b6de61c61e4bc.jpg',\n",
       " '9-happy-man-ian-hootonscience-photo-library.jpg',\n",
       " '960x0.jpg',\n",
       " '988689_Wallpaper2.jpg',\n",
       " 'a_man_smiling.jpg',\n",
       " 'A_Sep20_14_1189155141.jpg',\n",
       " 'behaviors-only-truly-happy-people-display.png',\n",
       " 'best_crop_157a62c5c960be9ce43d_6d687bf0-cd02-43d8-938a-c2743.jpg',\n",
       " 'brady-bunch-3.jpg',\n",
       " 'business-people-succesful-celebrating-group-successful-39416.jpg',\n",
       " 'cHJpdmF0ZS9sci9pbWFnZXMvd2Vic2l0ZS8yMDI0LTA4L21vdGFybzdfcGhv.png',\n",
       " 'cHJpdmF0ZS9sci9pbWFnZXMvd2Vic2l0ZS8yMDIyLTA5LzM5Mi1mZWxpeC02.png',\n",
       " 'college-university-students-illustration-classmates-differen.jpg',\n",
       " 'compassion.jpg',\n",
       " 'Couple_Happy_money_062618.jpg',\n",
       " 'diverse-group-of-people-forming-circle-smiling-together-phot.jpg',\n",
       " 'e162ccda8ce0f197f8863f327add9233.jpg',\n",
       " 'file-20230208-27-3jttof.jpg',\n",
       " 'friends-happy-190821-1490x838.jpg',\n",
       " 'friends-happy-190821.jpg',\n",
       " 'friends_190412.jpg',\n",
       " 'GettyImages-871518740.jpg',\n",
       " 'getty_143919450_9706479704500104_51510.webp',\n",
       " 'getty_152414899_97046097045006_68075.webp',\n",
       " 'getty_505175324_2000131020009280327_186071.webp',\n",
       " 'guilherme-stecanella-375176-unsplash.jpg',\n",
       " 'habits-of-happy-people-jpg.jpg',\n",
       " 'Happiest-person-in-the-world-.jpg',\n",
       " 'happiness-illustration-laughing-man-happy-person-vector-png-.jpg',\n",
       " 'happiness.jpg',\n",
       " 'Happy people on the beach.jpg',\n",
       " 'Happy People.jpg',\n",
       " 'happy-documentary-review-oc87rd-icon.png',\n",
       " 'happy-family-happy-people.jpg',\n",
       " 'Happy-Guy.jpg',\n",
       " 'happy-man-cartoon-vector-23089181.jpg',\n",
       " 'happy-man-celebrating-jumping-free-png.png',\n",
       " 'happy-man-vector-1426204.jpg',\n",
       " 'Happy-Man.jpg',\n",
       " 'happy-multiracial-group-of-diverse-friends-hang-out-in-the-c.jpg',\n",
       " 'Happy-people-800x533.jpg',\n",
       " 'happy-people-illustration-download-in-svg-png-gif-file-forma.png',\n",
       " 'happy-people.jpg',\n",
       " 'Happy-Person-Free-PNG-Image.png',\n",
       " 'Happy-Person-PNG-Clipart.png',\n",
       " 'Happy-Person-PNG-File.png',\n",
       " 'Happy-Person-PNG-Image.png',\n",
       " 'Happy-Person-PNG-Picture.png',\n",
       " 'Happy-Person-PNG.png',\n",
       " 'happy-person.jpg',\n",
       " 'Happy-Person.png',\n",
       " 'happypeople-1024x679.jpg',\n",
       " 'happyperson.jpg',\n",
       " 'Happy_graphic.jpg',\n",
       " 'Happy_guy.jpg',\n",
       " 'healthy-habits.jpg',\n",
       " 'how-to-be-happy.jpg',\n",
       " 'hqdefault (17).jpg',\n",
       " 'if-you-recognize-these-signs-youre-a-naturally-happy-person.png',\n",
       " 'image_jumpstory-download20230421-155938_7a7b427.jpg',\n",
       " 'iStock-1283955441.jpg',\n",
       " 'mature-couple-greets-their-smiling-guests-home-laughing-adul.jpg',\n",
       " 'MV5BM2IzZGNkZmEtNDY1OS00ZmYyLTk3MmQtNTI4NzM4MTIzODAxXkEyXkFq.jpg',\n",
       " 'nm-how-happiness-affects-health-tnail.jpg',\n",
       " 'osIpRz-LF6Q6_-hRHkZtvmIsmHYdlmx921i0RM4aFRPq78QbqdrEagqs9Xxe.png',\n",
       " 'picture-of-happy-person-3.webp',\n",
       " 'png-clipart-graphy-happiness-people-happy-people-photography.png',\n",
       " 'png-clipart-graphy-happy-man-white-child.png',\n",
       " 'pngtree-happy-man-posing-cool-photo-png-image_13471966.png',\n",
       " 'portrait-of-four-jumping-happy-people-C5H685.jpg',\n",
       " 'portrait-of-two-women-smiling-royalty-free-image-1687811174.jpg',\n",
       " 'portrait-wow-and-asian-man-with-smile-surprise-and-excited-w.jpg',\n",
       " 'p_1x_28dfe2415d63.png',\n",
       " 'p_1x_d3198aa67424.png',\n",
       " 'p_2x_2e80cd363b64.png',\n",
       " 'p_2x_72023649b67c.png',\n",
       " 'Screen-Shot-2012-10-23-at-12-57-22-PM.png',\n",
       " 'smile-woman_.jpg',\n",
       " 'smile.jpg',\n",
       " 'smiling-woman_W6GFOSFAXA.jpg',\n",
       " 'stock-photo-group-of-happy-people-isolated-over-white-backgr.jpg',\n",
       " 'stock-photo-handsome-young-man-wearing-glasses-over-isolated.jpg',\n",
       " 'Successful-year.jpg',\n",
       " 'Super-Happy-People-yay.jpg',\n",
       " 'UYgkMS-happy-man-person-png-picture.png',\n",
       " 'www.png',\n",
       " 'young-group-happy-people-enjoying-time-together-city-street-.jpg',\n",
       " '_happy_jumping_on_beach-40815.jpg']"
      ]
     },
     "execution_count": 33,
     "metadata": {},
     "output_type": "execute_result"
    }
   ],
   "source": [
    "os.listdir(os.path.join(data_dir,'happy'))"
   ]
  },
  {
   "cell_type": "code",
   "execution_count": 34,
   "id": "9289ee2a-261c-4728-aed3-4dc00a18bd00",
   "metadata": {},
   "outputs": [],
   "source": [
    "image_exts = ['jpeg','jpg','bmp','png']"
   ]
  },
  {
   "cell_type": "code",
   "execution_count": 35,
   "id": "62501082-cd6e-4ceb-94a2-dab246eb69f2",
   "metadata": {},
   "outputs": [
    {
     "data": {
      "text/plain": [
       "['jpeg', 'jpg', 'bmp', 'png']"
      ]
     },
     "execution_count": 35,
     "metadata": {},
     "output_type": "execute_result"
    }
   ],
   "source": [
    "image_exts"
   ]
  },
  {
   "cell_type": "code",
   "execution_count": null,
   "id": "6e709a65-4d65-4ff5-bc14-5a15b8522151",
   "metadata": {},
   "outputs": [],
   "source": []
  }
 ],
 "metadata": {
  "kernelspec": {
   "display_name": "Python 3 (ipykernel)",
   "language": "python",
   "name": "python3"
  },
  "language_info": {
   "codemirror_mode": {
    "name": "ipython",
    "version": 3
   },
   "file_extension": ".py",
   "mimetype": "text/x-python",
   "name": "python",
   "nbconvert_exporter": "python",
   "pygments_lexer": "ipython3",
   "version": "3.11.9"
  }
 },
 "nbformat": 4,
 "nbformat_minor": 5
}
